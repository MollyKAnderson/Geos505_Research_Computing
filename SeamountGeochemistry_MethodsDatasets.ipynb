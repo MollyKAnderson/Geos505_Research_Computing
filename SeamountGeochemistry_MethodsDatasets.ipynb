{
 "cells": [
  {
   "cell_type": "markdown",
   "metadata": {},
   "source": [
    "# Modeling Off-Axis Seamounts; Expediting insight into near-ridge mantle heterogeneity\n",
    "- Part Two -\n",
    "- Methods libraries datasets visualizations for project\n",
    "#### By: Molly Anderson"
   ]
  },
  {
   "cell_type": "markdown",
   "metadata": {},
   "source": [
    "### I. Problem Statement \n",
    "#### In an age where seeing the unseen is commonplace, scientists still have surprisingly few constraints on mantle dynamics beneath our feet. Studies performed at mid-ocean ridges attempt to address this gap in knowledge by examining chemistry of basalts produced at ridge axes where distance to the mantle is minimal (often less than 1 km). Ideally, those basalts are as close to representing the mantle as a geochemist can access. However, at fast-spreading ridges a continuous thermal barrier allows for efficient mixing of mantle material prior to eruption, so materials collected on-axis (the most common site for sampling) only represent an average composition. To probe any heterogeneities in the mantle, ~300 basalt samples were collected from a long seamount chain perpendicular to the fast-spreading East Pacific Rise in an attempt to by-pass homogenization mixing and see into the mantle. \n",
    "\n",
    "#### To assess heterogeneity, fractional crystallization, source mixing, and mantle melting models are compared to the 300 basalt samples. However, the stages from inputing parameters into the melting program (alphaMELTs) to producing visualizations of the results are arduous and time-consuming. This results in week-long modeling sessions that are frequently inadequate and need adjusted and re-run. To expedite the melt model results, this study will incorporate the computing power of Python to read the alphaMELTs output results, process the data, feed it into a script which plots the results in real-time without all of the intermediate, time-consuming steps. This will effectively reduce the time required to visualize the results so I can immediately decide which parameters to adjust, quickly adjust those, and automate getting updated results. "
   ]
  },
  {
   "cell_type": "markdown",
   "metadata": {},
   "source": [
    "### II. Useful datasets available\n",
    "- Major elements analyzed on 284 samples, trace elements analyzed on 149 samples, and radiogenic isotopes analyzed on 19 samples\n",
    "- Spatial data from in-situ collection of the basalts\n",
    "- High resolution Sentry maps of the seafloor from which samples were collected\n",
    "- Output from a melting program MELTs which simulates the compositional pathway a melt will take as pressure is decreased and more phases melt into the liquid phase. There are several simulations based on melting different mantle sources and melting mixtures of those mantle sources\n",
    "- Source compositions of various mantle reservoirs and calculated ratio mixtures of their compositions"
   ]
  },
  {
   "cell_type": "code",
   "execution_count": 11,
   "metadata": {},
   "outputs": [],
   "source": [
    "Elements = pd.read_csv('Documents/EPR/Code/MajorTrace.csv') #read in csv file of my data using specific directory\n",
    "Output = pd.read_csv('Documents/EPR/Code/DDMM.csv') #read in csv file of MELTs output (an example for this part of the project)"
   ]
  },
  {
   "cell_type": "markdown",
   "metadata": {},
   "source": [
    "### III. Methods and Process\n",
    "* Adjust parameters and input files for the MELTs program in the form of a batch file\n",
    "* Execute MELTs using an assigned environment and push batch file through MELTs program to run adjusted parameters\n",
    "* Import the output from MELTs as a table/matrix\n",
    "* Calculate ratios from the output matrix and put them in new columns in the table (use numpy to create column and calculate)\n",
    "* Plot and visualize the results of modelling by comparing with the physical data (use matplotlib.pyplot to create plots)"
   ]
  },
  {
   "cell_type": "markdown",
   "metadata": {},
   "source": [
    "### IV. Libraries"
   ]
  },
  {
   "cell_type": "code",
   "execution_count": 7,
   "metadata": {},
   "outputs": [],
   "source": [
    "import pandas as pd # standard library for data analysis\n",
    "import numpy as np # library for scientific computing\n",
    "import matplotlib.pyplot as plt # library for plotting values and generating visualizations\n",
    "from subprocess import call # use subprocess call to execute external program MELTs"
   ]
  },
  {
   "cell_type": "markdown",
   "metadata": {},
   "source": [
    "### V. Visualizations\n",
    "* The resulting output from MELTs should be a matrix (with headers) of numbers reflecting the compositional changes in a magma with temperature and pressure changes\n",
    "* I will calculate a few important ratios from the data (i.e. take La and Sm concentrations and normalize them to the mantle and calculate their ratio (La/SmN) and create a column that includes this ratio for each row (aka temperature change or iteration in MELTs)\n",
    "* Finally, the ratios will be plotted for the model output (values just calculated) and plotted against my data to assess how well the model fits the data. Then I will adjust accordingly"
   ]
  },
  {
   "cell_type": "code",
   "execution_count": 15,
   "metadata": {},
   "outputs": [],
   "source": [
    "#From sample runs I have done prior to writing this program:\n",
    "LaSmN_Data = Elements['La.SmN'].values\n",
    "NbLa_Data = Elements['Nb.La'].values\n",
    "LaSmN_Model = Output['La/Sm_1D'].values\n",
    "NbLa_Model = Output['Nb/La_1D'].values"
   ]
  },
  {
   "cell_type": "code",
   "execution_count": 23,
   "metadata": {},
   "outputs": [
    {
     "data": {
      "text/plain": [
       "Text(2,0.6,'Depleted Depleted Mantle')"
      ]
     },
     "execution_count": 23,
     "metadata": {},
     "output_type": "execute_result"
    },
    {
     "data": {
      "image/png": "[encoded data removed]",
      "text/plain": [
       "<Figure size 432x288 with 1 Axes>"
      ]
     },
     "metadata": {},
     "output_type": "display_data"
    }
   ],
   "source": [
    "#Plot results of model with my data for comparison\n",
    "plt.plot(LaSmN_Data, NbLa_Data, 'ro', label = \"Seamount Data\")\n",
    "plt.plot(LaSmN_Model, NbLa_Model, 'bo', label = \"Model Results\")\n",
    "plt.title('Melting models')\n",
    "plt.xlabel('La/SmN')\n",
    "plt.ylabel('Nb/La')\n",
    "plt.legend()\n",
    "plt.text(2,0.6, 'Depleted Depleted Mantle')"
   ]
  }
 ],
 "metadata": {
  "kernelspec": {
   "display_name": "Python 3",
   "language": "python",
   "name": "python3"
  },
  "language_info": {
   "codemirror_mode": {
    "name": "ipython",
    "version": 3
   },
   "file_extension": ".py",
   "mimetype": "text/x-python",
   "name": "python",
   "nbconvert_exporter": "python",
   "pygments_lexer": "ipython3",
   "version": "3.6.5"
  }
 },
 "nbformat": 4,
 "nbformat_minor": 2
}
