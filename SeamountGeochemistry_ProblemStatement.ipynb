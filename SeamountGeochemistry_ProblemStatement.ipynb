{
 "cells": [
  {
   "cell_type": "markdown",
   "metadata": {},
   "source": [
    "# Geochemistry of Off-Axis Seamounts; an insight into near-ridge mantle heterogeneity\n",
    "- Part One -\n",
    "- Problem Statement and Dataset  \n",
    "#### By: Molly Anderson"
   ]
  },
  {
   "cell_type": "markdown",
   "metadata": {},
   "source": [
    "### I. Problem Statement \n",
    "#### In an age where seeing the unseeable is commonplace, scientists still have surprisingly few constraints on mantle dynamics beneath our feet. Studies performed at mid-ocean ridges attempt to address this gap in knowledge by examining chemistry of basalts produced at ridge axes where distance to the mantle is minimal (often less than 1 km). Ideally, those basalts are as close to representing the mantle as a geochemist can access. However, at fast-spreading ridges a continuous thermal barrier allows for efficient mixing of mantle material prior to eruption, so materials collected on-axis (the most common site for sampling) only represent an average composition. To probe any heterogeneities in the mantle, ~300 basalt samples were collected from a long seamount chain perpendicular to the fast-spreading East Pacific Rise in an attempt to by-pass homogenization mixing and see into the mantle. \n",
    "\n",
    "#### Preliminary results show that extreme heterogeneity exists in the mantle at such small scales that the distribution of chemistry is relatively asystematic on large scales. There are multiple mantle processes which might directly control the small-scale distribution of heterogeneity found on the seamounts. An important step in assessing the mantle is parsing the processes that might be used to explain the presence of different basalt compositions on a small scale (i.e., fractionally crystallizing magmas to various extents in different magma chambers, melting the mantle to variable extents, or tapping into geochemically distinct reservoirs from the mantle). To understand the influence of each of these processes, we compare three geochemical groups (major elements, trace elements, and radiogenic isotopes). In previous stages of this project, we conclude that neither fractional crystallization nor mantle melting alone can form the basalts, and simple two-component source variability is equally insufficient.\n",
    "\n",
    "#### This requires a systematic approach of combining the effects of these processes in a forward model to predict plausible combinations of mantle processes forming heterogeneity in the mantle. I intend to use the computing power of Python language to combine mantle models and display a geologically reasonable explanation for near-ridge mantle heterogeneity. "
   ]
  },
  {
   "cell_type": "markdown",
   "metadata": {},
   "source": [
    "### II. Useful datasets available\n",
    "- Major elements analyzed on 284 samples, trace elements analyzed on 149 samples, and radiogenic isotopes analyzed on 19 samples\n",
    "- Spatial data from in-situ collection of the basalts\n",
    "- High resolution Sentry maps of the seafloor from which samples were collected\n",
    "- Output from a melting program MELTs which simulates the compositional pathway a melt will take as pressure is decreased and more phases melt into the liquid phase. There are several simulations based on melting different mantle sources and melting mixtures of those mantle sources\n",
    "- Source compositions of various mantle reservoirs and calculated ratio mixtures of their compositions"
   ]
  }
 ],
 "metadata": {
  "kernelspec": {
   "display_name": "Python 3",
   "language": "python",
   "name": "python3"
  },
  "language_info": {
   "codemirror_mode": {
    "name": "ipython",
    "version": 3
   },
   "file_extension": ".py",
   "mimetype": "text/x-python",
   "name": "python",
   "nbconvert_exporter": "python",
   "pygments_lexer": "ipython3",
   "version": "3.6.5"
  }
 },
 "nbformat": 4,
 "nbformat_minor": 2
}
