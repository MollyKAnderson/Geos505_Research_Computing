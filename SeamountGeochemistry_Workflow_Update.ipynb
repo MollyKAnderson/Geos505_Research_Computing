{
 "cells": [
  {
   "cell_type": "markdown",
   "metadata": {},
   "source": [
    "# Modeling Off-Axis Seamounts; Expediting insight into near-ridge mantle heterogeneity\n",
    "- Part Three - IN PROGRESS - \n",
    "- Workflow \n",
    "#### By: Molly Anderson"
   ]
  },
  {
   "cell_type": "markdown",
   "metadata": {},
   "source": [
    "### I. Problem Statement \n",
    "#### In an age where seeing the unseen is commonplace, scientists still have surprisingly few constraints on mantle dynamics beneath our feet. Studies performed at mid-ocean ridges attempt to address this gap in knowledge by examining chemistry of basalts produced at ridge axes where distance to the mantle is minimal (often less than 1 km). Ideally, those basalts are as close to representing the mantle as a geochemist can access. However, at fast-spreading ridges a continuous thermal barrier allows for efficient mixing of mantle material prior to eruption, so materials collected on-axis (the most common site for sampling) only represent an average composition. To probe any heterogeneities in the mantle, ~300 basalt samples were collected from a long seamount chain perpendicular to the fast-spreading East Pacific Rise in an attempt to by-pass homogenization mixing and see into the mantle. \n",
    "\n",
    "#### To assess heterogeneity, fractional crystallization, source mixing, and mantle melting models are compared to the 300 basalt samples. However, the stages from inputing parameters into the melting program (alphaMELTs) to producing visualizations of the results are arduous and time-consuming. This results in week-long modeling sessions that are frequently inadequate and need adjusted and re-run. To expedite the melt model results, this study will incorporate the computing power of Python to read the alphaMELTs output results, process the data, feed it into a script which plots the results in real-time without all of the intermediate, time-consuming steps. This will effectively reduce the time required to visualize the results so I can immediately decide which parameters to adjust, quickly adjust those, and automate getting updated results. "
   ]
  },
  {
   "cell_type": "markdown",
   "metadata": {},
   "source": [
    "### II. Import libraries and Upload seamount data"
   ]
  },
  {
   "cell_type": "code",
   "execution_count": null,
   "metadata": {
    "collapsed": true
   },
   "outputs": [],
   "source": [
    "import pandas as pd # standard library for data analysis\n",
    "import numpy as np # library for scientific computing\n",
    "import matplotlib.pyplot as plt # library for plotting values and generating visualizations\n",
    "import subprocess # library for executing an external program through Jupyter notebooks\n",
    "from subprocess import call # use subprocess call to execute external program MELTs... \n",
    "#it seems that Jupyter already has this capability by just using an exclamation point\n",
    "Elements = pd.read_csv('Documents/EPR/Code/MajorTrace.csv') #read in seamount data file and set variable Elements for table"
   ]
  },
  {
   "cell_type": "markdown",
   "metadata": {},
   "source": [
    "### III. Choose melting parameters\n",
    "* Edit batch file to reflect melting parameters for the program MELTs\n",
    "* Set variables for specifying titles, etc in the plots later so that labels accurately reflect the parameters modelled "
   ]
  },
  {
   "cell_type": "code",
   "execution_count": null,
   "metadata": {
    "collapsed": true
   },
   "outputs": [],
   "source": [
    "%load C:\\Users\\Molly\\Documents\\bin\\batch.txt #adjust batch file to appropriate composition txt file, temp, pressure conditions"
   ]
  },
  {
   "cell_type": "code",
   "execution_count": null,
   "metadata": {
    "collapsed": true
   },
   "outputs": [],
   "source": [
    "%%write editedbatch.txt #save changes as the batch we apply later"
   ]
  },
  {
   "cell_type": "markdown",
   "metadata": {},
   "source": [
    "### IV. Execute MELTs Program\n",
    "* Call batch file which executes MELTs and provides the right flags (f for environment, b for batch, p for output)\n",
    "    (tells MELTs which environment file, batch file (the one adjusted above), and output location)\n",
    "* Produce an output in the form of a txt file (ends in traceint)"
   ]
  },
  {
   "cell_type": "code",
   "execution_count": null,
   "metadata": {
    "collapsed": true
   },
   "outputs": [],
   "source": [
    "!C:/Users/Molly/Documents/bin/test.bat #exclamation point to call the batch which executes MELTs program\n",
    "\n",
    "print('done') #since the program is finnicky and long, have Jupyter output 'done' when it is complete and successful"
   ]
  },
  {
   "cell_type": "markdown",
   "metadata": {},
   "source": [
    "### V. Upload Output Results as CSV\n",
    "* Remove the upper header rows\n",
    "* Convert to csv \n",
    "* Upload csv into Jupyter notebooks"
   ]
  },
  {
   "cell_type": "code",
   "execution_count": null,
   "metadata": {
    "collapsed": true
   },
   "outputs": [],
   "source": [
    "Output_TE = pd.read('Documents/bin/Output.traceint') #read trace element file of MELTs output (an example for this part of the project)"
   ]
  },
  {
   "cell_type": "markdown",
   "metadata": {},
   "source": [
    "### VI. Calculate Trace Element Ratios Normalized to Mantle --> create new columns\n",
    "* Use La/SmN formula and put calculated results for each row in an additional column in the table\n",
    "* Use Nb/La formula and put calculated results of each row in an additional column in the table"
   ]
  },
  {
   "cell_type": "code",
   "execution_count": null,
   "metadata": {
    "collapsed": true
   },
   "outputs": [],
   "source": [
    "# did not get to this section because Anaconda crashed on my computer. Due to installation issues the project changed here\n"
   ]
  },
  {
   "cell_type": "markdown",
   "metadata": {},
   "source": [
    "### VII. Plot Results of Model with Seamount Data for Visual Comparison\n",
    "* Plot La/SmN versus Nb/La showing 1. the seamount data as points, and 2. the model results in the form of a line \n",
    "* Include axes titles, labels, a figure title, and a legend "
   ]
  },
  {
   "cell_type": "code",
   "execution_count": null,
   "metadata": {
    "collapsed": true
   },
   "outputs": [],
   "source": [
    "LaSmN_Data = Elements['La.SmN'].values #set variables for columns of seamount data\n",
    "NbLa_Data = Elements['Nb.La'].values\n",
    "LaSmN_Model = Output_TE['La/Sm_1D'].values #set variables for columns of modelled data \n",
    "NbLa_Model = Output_TE['Nb/La_1D'].values\n",
    "plt.plot(LaSmN_Data, NbLa_Data, 'ro', label = \"Seamount Data\") #plot the seamount data as red points, title for legend\n",
    "plt.plot(LaSmN_Model, NbLa_Model, 'bl', label = \"Model Results\") #plot the model results as a blue line, title for legend\n",
    "plt.title('Melting models') #title of the plot\n",
    "plt.xlabel('La/SmN') #x-axis label\n",
    "plt.ylabel('Nb/La') #y-axis label\n",
    "plt.legend() #automatically produces a legend based on the two plotted series\n",
    "plt.text(2,0.6, 'Depleted Depleted Mantle') #add text to the plot to describe the line and what model it represents"
   ]
  }
 ],
 "metadata": {
  "kernelspec": {
   "display_name": "Python 3",
   "language": "python",
   "name": "python3"
  },
  "language_info": {
   "codemirror_mode": {
    "name": "ipython",
    "version": 3
   },
   "file_extension": ".py",
   "mimetype": "text/x-python",
   "name": "python",
   "nbconvert_exporter": "python",
   "pygments_lexer": "ipython3",
   "version": "3.6.1"
  }
 },
 "nbformat": 4,
 "nbformat_minor": 2
}
